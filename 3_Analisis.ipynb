{
 "cells": [
  {
   "cell_type": "code",
   "execution_count": 37,
   "metadata": {},
   "outputs": [],
   "source": [
    "import numpy as np \n",
    "import pandas as pd \n",
    "import seaborn as sns\n",
    "import matplotlib.pyplot as plt\n",
    "from datetime import date, timedelta, datetime"
   ]
  },
  {
   "cell_type": "code",
   "execution_count": 38,
   "metadata": {},
   "outputs": [],
   "source": [
    "Data=pd.read_csv(r\"../PI03-Analytics-main/Procesado.csv\")"
   ]
  },
  {
   "cell_type": "code",
   "execution_count": 39,
   "metadata": {},
   "outputs": [
    {
     "data": {
      "text/html": [
       "<div>\n",
       "<style scoped>\n",
       "    .dataframe tbody tr th:only-of-type {\n",
       "        vertical-align: middle;\n",
       "    }\n",
       "\n",
       "    .dataframe tbody tr th {\n",
       "        vertical-align: top;\n",
       "    }\n",
       "\n",
       "    .dataframe thead th {\n",
       "        text-align: right;\n",
       "    }\n",
       "</style>\n",
       "<table border=\"1\" class=\"dataframe\">\n",
       "  <thead>\n",
       "    <tr style=\"text-align: right;\">\n",
       "      <th></th>\n",
       "      <th>Unnamed: 0</th>\n",
       "      <th>fecha</th>\n",
       "      <th>Hora</th>\n",
       "      <th>Ruta Accidente</th>\n",
       "      <th>Ruta vuelo</th>\n",
       "      <th>origen</th>\n",
       "      <th>destino</th>\n",
       "      <th>escalas</th>\n",
       "      <th>Operador</th>\n",
       "      <th>Avion</th>\n",
       "      <th>registro</th>\n",
       "      <th>all_aboard</th>\n",
       "      <th>Pasajeros a Bordo</th>\n",
       "      <th>crew_aboard</th>\n",
       "      <th>cantidad de fallecidos</th>\n",
       "      <th>passenger_fatalities</th>\n",
       "      <th>crew_fatalities</th>\n",
       "      <th>ground</th>\n",
       "      <th>reporte</th>\n",
       "    </tr>\n",
       "  </thead>\n",
       "  <tbody>\n",
       "    <tr>\n",
       "      <th>0</th>\n",
       "      <td>0</td>\n",
       "      <td>1908-09-17</td>\n",
       "      <td>17:18:00</td>\n",
       "      <td>Fort Myer, Virginia</td>\n",
       "      <td>Demonstration</td>\n",
       "      <td>Demonstration</td>\n",
       "      <td>Demonstration</td>\n",
       "      <td>0.0</td>\n",
       "      <td>Military - U.S. Army</td>\n",
       "      <td>Wright Flyer III</td>\n",
       "      <td>NaN</td>\n",
       "      <td>2.0</td>\n",
       "      <td>1.0</td>\n",
       "      <td>1.0</td>\n",
       "      <td>1.0</td>\n",
       "      <td>1.0</td>\n",
       "      <td>0.0</td>\n",
       "      <td>0.0</td>\n",
       "      <td>Durante un vuelo de demostración, un avión del...</td>\n",
       "    </tr>\n",
       "    <tr>\n",
       "      <th>1</th>\n",
       "      <td>1</td>\n",
       "      <td>1909-09-07</td>\n",
       "      <td>00:00:00</td>\n",
       "      <td>Juvisy-sur-Orge, France</td>\n",
       "      <td>Air show</td>\n",
       "      <td>Air show</td>\n",
       "      <td>Air show</td>\n",
       "      <td>0.0</td>\n",
       "      <td>NaN</td>\n",
       "      <td>Wright Byplane</td>\n",
       "      <td>SC1</td>\n",
       "      <td>1.0</td>\n",
       "      <td>0.0</td>\n",
       "      <td>1.0</td>\n",
       "      <td>1.0</td>\n",
       "      <td>0.0</td>\n",
       "      <td>0.0</td>\n",
       "      <td>0.0</td>\n",
       "      <td>Eugene Lefebvre fue el primer piloto en morir ...</td>\n",
       "    </tr>\n",
       "    <tr>\n",
       "      <th>2</th>\n",
       "      <td>2</td>\n",
       "      <td>1912-07-12</td>\n",
       "      <td>06:30:00</td>\n",
       "      <td>Atlantic City, New Jersey</td>\n",
       "      <td>Test flight</td>\n",
       "      <td>Test flight</td>\n",
       "      <td>Test flight</td>\n",
       "      <td>0.0</td>\n",
       "      <td>Military - U.S. Navy</td>\n",
       "      <td>Dirigible</td>\n",
       "      <td>NaN</td>\n",
       "      <td>5.0</td>\n",
       "      <td>0.0</td>\n",
       "      <td>5.0</td>\n",
       "      <td>5.0</td>\n",
       "      <td>0.0</td>\n",
       "      <td>5.0</td>\n",
       "      <td>0.0</td>\n",
       "      <td>El primer dirigible estadounidense Akron explo...</td>\n",
       "    </tr>\n",
       "    <tr>\n",
       "      <th>3</th>\n",
       "      <td>3</td>\n",
       "      <td>1913-08-06</td>\n",
       "      <td>00:00:00</td>\n",
       "      <td>Victoria, British Columbia, Canada</td>\n",
       "      <td>NaN</td>\n",
       "      <td>NaN</td>\n",
       "      <td>NaN</td>\n",
       "      <td>NaN</td>\n",
       "      <td>Private</td>\n",
       "      <td>Curtiss seaplane</td>\n",
       "      <td>NaN</td>\n",
       "      <td>1.0</td>\n",
       "      <td>0.0</td>\n",
       "      <td>1.0</td>\n",
       "      <td>1.0</td>\n",
       "      <td>0.0</td>\n",
       "      <td>1.0</td>\n",
       "      <td>0.0</td>\n",
       "      <td>El primer accidente de avión mortal en Canadá ...</td>\n",
       "    </tr>\n",
       "    <tr>\n",
       "      <th>4</th>\n",
       "      <td>4</td>\n",
       "      <td>1913-09-09</td>\n",
       "      <td>18:30:00</td>\n",
       "      <td>Over the North Sea</td>\n",
       "      <td>NaN</td>\n",
       "      <td>NaN</td>\n",
       "      <td>NaN</td>\n",
       "      <td>NaN</td>\n",
       "      <td>Military - German Navy</td>\n",
       "      <td>Zeppelin L-1 (airship)</td>\n",
       "      <td>NaN</td>\n",
       "      <td>20.0</td>\n",
       "      <td>NaN</td>\n",
       "      <td>NaN</td>\n",
       "      <td>14.0</td>\n",
       "      <td>NaN</td>\n",
       "      <td>NaN</td>\n",
       "      <td>0.0</td>\n",
       "      <td>La aeronave voló hacia una tormenta eléctrica ...</td>\n",
       "    </tr>\n",
       "  </tbody>\n",
       "</table>\n",
       "</div>"
      ],
      "text/plain": [
       "  Unnamed: 0       fecha      Hora                      Ruta Accidente  \\\n",
       "0          0  1908-09-17  17:18:00                 Fort Myer, Virginia   \n",
       "1          1  1909-09-07  00:00:00             Juvisy-sur-Orge, France   \n",
       "2          2  1912-07-12  06:30:00           Atlantic City, New Jersey   \n",
       "3          3  1913-08-06  00:00:00  Victoria, British Columbia, Canada   \n",
       "4          4  1913-09-09  18:30:00                  Over the North Sea   \n",
       "\n",
       "      Ruta vuelo         origen        destino  escalas  \\\n",
       "0  Demonstration  Demonstration  Demonstration      0.0   \n",
       "1       Air show       Air show       Air show      0.0   \n",
       "2    Test flight    Test flight    Test flight      0.0   \n",
       "3            NaN            NaN            NaN      NaN   \n",
       "4            NaN            NaN            NaN      NaN   \n",
       "\n",
       "                 Operador                   Avion registro  all_aboard  \\\n",
       "0    Military - U.S. Army        Wright Flyer III      NaN         2.0   \n",
       "1                     NaN          Wright Byplane      SC1         1.0   \n",
       "2    Military - U.S. Navy               Dirigible      NaN         5.0   \n",
       "3                 Private        Curtiss seaplane      NaN         1.0   \n",
       "4  Military - German Navy  Zeppelin L-1 (airship)      NaN        20.0   \n",
       "\n",
       "   Pasajeros a Bordo  crew_aboard  cantidad de fallecidos  \\\n",
       "0                1.0          1.0                     1.0   \n",
       "1                0.0          1.0                     1.0   \n",
       "2                0.0          5.0                     5.0   \n",
       "3                0.0          1.0                     1.0   \n",
       "4                NaN          NaN                    14.0   \n",
       "\n",
       "   passenger_fatalities  crew_fatalities  ground  \\\n",
       "0                   1.0              0.0     0.0   \n",
       "1                   0.0              0.0     0.0   \n",
       "2                   0.0              5.0     0.0   \n",
       "3                   0.0              1.0     0.0   \n",
       "4                   NaN              NaN     0.0   \n",
       "\n",
       "                                             reporte  \n",
       "0  Durante un vuelo de demostración, un avión del...  \n",
       "1  Eugene Lefebvre fue el primer piloto en morir ...  \n",
       "2  El primer dirigible estadounidense Akron explo...  \n",
       "3  El primer accidente de avión mortal en Canadá ...  \n",
       "4  La aeronave voló hacia una tormenta eléctrica ...  "
      ]
     },
     "execution_count": 39,
     "metadata": {},
     "output_type": "execute_result"
    }
   ],
   "source": [
    "Data.head()"
   ]
  },
  {
   "cell_type": "code",
   "execution_count": 40,
   "metadata": {},
   "outputs": [
    {
     "data": {
      "text/plain": [
       "Index(['Unnamed: 0', 'fecha', 'Hora', 'Ruta Accidente', 'Ruta vuelo', 'origen',\n",
       "       'destino', 'escalas', 'Operador', 'Avion', 'registro', 'all_aboard',\n",
       "       'Pasajeros a Bordo', 'crew_aboard', 'cantidad de fallecidos',\n",
       "       'passenger_fatalities', 'crew_fatalities', 'ground', 'reporte'],\n",
       "      dtype='object')"
      ]
     },
     "execution_count": 40,
     "metadata": {},
     "output_type": "execute_result"
    }
   ],
   "source": [
    "Data.columns"
   ]
  },
  {
   "cell_type": "code",
   "execution_count": 41,
   "metadata": {},
   "outputs": [],
   "source": [
    "Data2 = Data[(Data[\"Unnamed: 0\"].apply(lambda x: x.isalnum()))]"
   ]
  },
  {
   "cell_type": "code",
   "execution_count": 42,
   "metadata": {},
   "outputs": [],
   "source": [
    "Data3 = Data2[(Data2[\"fecha\"].apply(lambda x: str(x).find(\"-\")!= -1))]"
   ]
  },
  {
   "cell_type": "code",
   "execution_count": 45,
   "metadata": {},
   "outputs": [
    {
     "name": "stderr",
     "output_type": "stream",
     "text": [
      "/var/folders/4h/zd1h7yk93j37j92519m4z_y80000gn/T/ipykernel_7429/209244173.py:2: SettingWithCopyWarning: \n",
      "A value is trying to be set on a copy of a slice from a DataFrame.\n",
      "Try using .loc[row_indexer,col_indexer] = value instead\n",
      "\n",
      "See the caveats in the documentation: https://pandas.pydata.org/pandas-docs/stable/user_guide/indexing.html#returning-a-view-versus-a-copy\n",
      "  Data3[\"fecha\"] = Data3[\"fecha\"].apply(lambda x: datetime.strptime(x, '%Y-%m-%d'))\n"
     ]
    }
   ],
   "source": [
    "#Data3[\"fecha\"]=pd.to_datetime(Data3[\"fecha\"])\n",
    "Data3[\"fecha\"] = Data3[\"fecha\"].apply(lambda x: datetime.strptime(x, '%Y-%m-%d'))"
   ]
  },
  {
   "cell_type": "code",
   "execution_count": 49,
   "metadata": {},
   "outputs": [
    {
     "name": "stderr",
     "output_type": "stream",
     "text": [
      "/var/folders/4h/zd1h7yk93j37j92519m4z_y80000gn/T/ipykernel_7429/1003139917.py:8: SettingWithCopyWarning: \n",
      "A value is trying to be set on a copy of a slice from a DataFrame.\n",
      "Try using .loc[row_indexer,col_indexer] = value instead\n",
      "\n",
      "See the caveats in the documentation: https://pandas.pydata.org/pandas-docs/stable/user_guide/indexing.html#returning-a-view-versus-a-copy\n",
      "  Data3[\"año\"] = Data3[\"fecha\"].apply(año)\n",
      "/var/folders/4h/zd1h7yk93j37j92519m4z_y80000gn/T/ipykernel_7429/1003139917.py:9: SettingWithCopyWarning: \n",
      "A value is trying to be set on a copy of a slice from a DataFrame.\n",
      "Try using .loc[row_indexer,col_indexer] = value instead\n",
      "\n",
      "See the caveats in the documentation: https://pandas.pydata.org/pandas-docs/stable/user_guide/indexing.html#returning-a-view-versus-a-copy\n",
      "  Data3[\"mes\"] = Data3[\"fecha\"].apply(mes)\n"
     ]
    }
   ],
   "source": [
    "def año(x):\n",
    "    x = str(x).split(\"-\")\n",
    "    return x[0]\n",
    "def mes(x):\n",
    "    x = str(x).split(\"-\")\n",
    "    return x[1]\n",
    "\n",
    "Data3[\"año\"] = Data3[\"fecha\"].apply(año)\n",
    "Data3[\"mes\"] = Data3[\"fecha\"].apply(mes)\n"
   ]
  },
  {
   "cell_type": "code",
   "execution_count": 48,
   "metadata": {},
   "outputs": [
    {
     "data": {
      "text/plain": [
       "0       1908\n",
       "1       1909\n",
       "2       1912\n",
       "3       1913\n",
       "4       1913\n",
       "        ... \n",
       "5021    2021\n",
       "5022    2021\n",
       "5023    2021\n",
       "5024    2021\n",
       "5025    2021\n",
       "Name: año, Length: 5008, dtype: object"
      ]
     },
     "execution_count": 48,
     "metadata": {},
     "output_type": "execute_result"
    }
   ],
   "source": [
    "Data3[\"año\"]"
   ]
  },
  {
   "cell_type": "code",
   "execution_count": 61,
   "metadata": {},
   "outputs": [],
   "source": [
    "import matplotlib.ticker as ticker"
   ]
  },
  {
   "cell_type": "code",
   "execution_count": 69,
   "metadata": {},
   "outputs": [
    {
     "ename": "TypeError",
     "evalue": "Series.unique() got an unexpected keyword argument 'axis'",
     "output_type": "error",
     "traceback": [
      "\u001b[0;31m---------------------------------------------------------------------------\u001b[0m",
      "\u001b[0;31mTypeError\u001b[0m                                 Traceback (most recent call last)",
      "Cell \u001b[0;32mIn [69], line 1\u001b[0m\n\u001b[0;32m----> 1\u001b[0m Temp \u001b[39m=\u001b[39m Data3\u001b[39m.\u001b[39mgroupby(Data3[\u001b[39m\"\u001b[39;49m\u001b[39maño\u001b[39;49m\u001b[39m\"\u001b[39;49m]\u001b[39m.\u001b[39;49munique(axis\u001b[39m=\u001b[39;49m\u001b[39m0\u001b[39;49m))[[\u001b[39m'\u001b[39m\u001b[39mfecha\u001b[39m\u001b[39m'\u001b[39m]]\u001b[39m.\u001b[39mcount() \u001b[39m#Temp is going to be temporary data frame \u001b[39;00m\n\u001b[1;32m      2\u001b[0m Temp \u001b[39m=\u001b[39m Temp\u001b[39m.\u001b[39mrename(columns\u001b[39m=\u001b[39m{\u001b[39m\"\u001b[39m\u001b[39mfecha\u001b[39m\u001b[39m\"\u001b[39m: \u001b[39m\"\u001b[39m\u001b[39mCount\u001b[39m\u001b[39m\"\u001b[39m})\n\u001b[1;32m      5\u001b[0m plt\u001b[39m.\u001b[39mfigure(figsize\u001b[39m=\u001b[39m(\u001b[39m12\u001b[39m,\u001b[39m6\u001b[39m))\n",
      "\u001b[0;31mTypeError\u001b[0m: Series.unique() got an unexpected keyword argument 'axis'"
     ]
    }
   ],
   "source": [
    "Temp = Data3.groupby(Data3[\"año\"].unique())[['fecha']].count() #Temp is going to be temporary data frame \n",
    "Temp = Temp.rename(columns={\"fecha\": \"Count\"})\n",
    "\n",
    "\n",
    "plt.figure(figsize=(12,6))\n",
    "plt.style.use('bmh')\n",
    "plt.plot(Temp.index, 'Count', data=Temp, color='blue', marker = \".\", linewidth=1,)\n",
    "plt.xlabel('Year', fontsize=10)\n",
    "plt.ylabel('Count', fontsize=10)\n",
    "plt.title('Count of accidents by Year', loc='Center', fontsize=14)\n",
    "plt.grid(True)\n",
    "plt.show()"
   ]
  }
 ],
 "metadata": {
  "kernelspec": {
   "display_name": "Python 3.11.0 64-bit",
   "language": "python",
   "name": "python3"
  },
  "language_info": {
   "codemirror_mode": {
    "name": "ipython",
    "version": 3
   },
   "file_extension": ".py",
   "mimetype": "text/x-python",
   "name": "python",
   "nbconvert_exporter": "python",
   "pygments_lexer": "ipython3",
   "version": "3.11.0"
  },
  "orig_nbformat": 4,
  "vscode": {
   "interpreter": {
    "hash": "aee8b7b246df8f9039afb4144a1f6fd8d2ca17a180786b69acc140d282b71a49"
   }
  }
 },
 "nbformat": 4,
 "nbformat_minor": 2
}
